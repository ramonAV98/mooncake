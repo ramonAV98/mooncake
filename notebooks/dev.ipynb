{
 "cells": [
  {
   "cell_type": "code",
   "execution_count": 1,
   "id": "f44eb481",
   "metadata": {},
   "outputs": [],
   "source": [
    "# Add mooncake to sys\n",
    "\n",
    "import sys\n",
    "\n",
    "mooncake_path = '/Users/ramonamezquita/Projects/mooncake'\n",
    "sys.path.append(mooncake_path)"
   ]
  },
  {
   "cell_type": "code",
   "execution_count": 2,
   "id": "83a37ae4",
   "metadata": {},
   "outputs": [],
   "source": [
    "import pandas as pd\n",
    "import numpy as np"
   ]
  },
  {
   "cell_type": "code",
   "execution_count": 3,
   "id": "b66d2826",
   "metadata": {},
   "outputs": [],
   "source": [
    "%load_ext autoreload\n",
    "%autoreload 2"
   ]
  },
  {
   "cell_type": "code",
   "execution_count": 4,
   "id": "03fcced6",
   "metadata": {},
   "outputs": [],
   "source": [
    "def select_top_n_groups(X, n, group_ids, wrt, aggfunc=sum):\n",
    "    top_group_ids =  X.groupby(\n",
    "        group_ids).agg({wrt: aggfunc}).nlargest(n, wrt).index.tolist()\n",
    "    \n",
    "    return X.set_index(group_ids).loc[top_group_ids].reset_index()"
   ]
  },
  {
   "cell_type": "code",
   "execution_count": 5,
   "id": "cae67a8f",
   "metadata": {},
   "outputs": [],
   "source": [
    "# Data and description\n",
    "\n",
    "X = pd.read_csv('sales_example/sales_forecasting_dataset.csv')\n",
    "date = 'Date'\n",
    "GROUP_IDS = ['Store', 'Dept']\n",
    "target = 'Weekly_Sales'\n",
    "\n",
    "    \n",
    "# Select subset\n",
    "n_groups_to_use = 1\n",
    "X = select_top_n_groups(X, n_groups_to_use, GROUP_IDS, target)"
   ]
  },
  {
   "cell_type": "code",
   "execution_count": 6,
   "id": "889abd4f",
   "metadata": {},
   "outputs": [],
   "source": [
    "# Rename\n",
    "\n",
    "columns={\n",
    "    'Store': 'group_id__0',\n",
    "    'Dept': 'group_id__1',\n",
    "    'Date': 'timestamp',\n",
    "    'Weekly_Sales': 'target'\n",
    "}\n",
    "X.rename(columns=columns, inplace=True)\n",
    "del X['IsHoliday']\n",
    "\n",
    "GROUP_IDS = ['group_id__0', 'group_id__1']\n",
    "date = 'timestamp'\n",
    "target = 'target'"
   ]
  },
  {
   "cell_type": "code",
   "execution_count": 7,
   "id": "dd9f28f7",
   "metadata": {},
   "outputs": [],
   "source": [
    "# Correct dtypes\n",
    "\n",
    "X['timestamp'] = pd.to_datetime(X['timestamp'])\n",
    "for g in GROUP_IDS:\n",
    "    X[g] = X[g].astype(str)"
   ]
  },
  {
   "cell_type": "code",
   "execution_count": 8,
   "id": "e7600d44",
   "metadata": {},
   "outputs": [],
   "source": [
    "X = X.sort_values(GROUP_IDS + [date]).reset_index(drop=True)"
   ]
  },
  {
   "cell_type": "code",
   "execution_count": 9,
   "id": "4968c361",
   "metadata": {},
   "outputs": [
    {
     "data": {
      "text/html": [
       "<div>\n",
       "<style scoped>\n",
       "    .dataframe tbody tr th:only-of-type {\n",
       "        vertical-align: middle;\n",
       "    }\n",
       "\n",
       "    .dataframe tbody tr th {\n",
       "        vertical-align: top;\n",
       "    }\n",
       "\n",
       "    .dataframe thead th {\n",
       "        text-align: right;\n",
       "    }\n",
       "</style>\n",
       "<table border=\"1\" class=\"dataframe\">\n",
       "  <thead>\n",
       "    <tr style=\"text-align: right;\">\n",
       "      <th></th>\n",
       "      <th>group_id__0</th>\n",
       "      <th>group_id__1</th>\n",
       "      <th>timestamp</th>\n",
       "      <th>target</th>\n",
       "    </tr>\n",
       "  </thead>\n",
       "  <tbody>\n",
       "    <tr>\n",
       "      <th>0</th>\n",
       "      <td>14</td>\n",
       "      <td>92</td>\n",
       "      <td>2010-01-10</td>\n",
       "      <td>174219.51</td>\n",
       "    </tr>\n",
       "    <tr>\n",
       "      <th>1</th>\n",
       "      <td>14</td>\n",
       "      <td>92</td>\n",
       "      <td>2010-02-04</td>\n",
       "      <td>203457.42</td>\n",
       "    </tr>\n",
       "    <tr>\n",
       "      <th>2</th>\n",
       "      <td>14</td>\n",
       "      <td>92</td>\n",
       "      <td>2010-02-07</td>\n",
       "      <td>198349.17</td>\n",
       "    </tr>\n",
       "    <tr>\n",
       "      <th>3</th>\n",
       "      <td>14</td>\n",
       "      <td>92</td>\n",
       "      <td>2010-02-19</td>\n",
       "      <td>192282.19</td>\n",
       "    </tr>\n",
       "    <tr>\n",
       "      <th>4</th>\n",
       "      <td>14</td>\n",
       "      <td>92</td>\n",
       "      <td>2010-02-26</td>\n",
       "      <td>205250.96</td>\n",
       "    </tr>\n",
       "  </tbody>\n",
       "</table>\n",
       "</div>"
      ],
      "text/plain": [
       "  group_id__0 group_id__1  timestamp     target\n",
       "0          14          92 2010-01-10  174219.51\n",
       "1          14          92 2010-02-04  203457.42\n",
       "2          14          92 2010-02-07  198349.17\n",
       "3          14          92 2010-02-19  192282.19\n",
       "4          14          92 2010-02-26  205250.96"
      ]
     },
     "execution_count": 9,
     "metadata": {},
     "output_type": "execute_result"
    }
   ],
   "source": [
    "X.head()"
   ]
  },
  {
   "cell_type": "markdown",
   "id": "3d384dd3",
   "metadata": {},
   "source": [
    "# Preprocess"
   ]
  },
  {
   "cell_type": "code",
   "execution_count": 10,
   "id": "b14b45c2",
   "metadata": {},
   "outputs": [],
   "source": [
    "from mooncake.preprocessing import (\n",
    "    TimeIndex, \n",
    "    GroupColumnTransformer, \n",
    "    CyclicalDates, \n",
    "    ColumnTransformer,\n",
    "    IdentityTransformer\n",
    ")\n",
    "from mooncake.utils.data import column_selector\n",
    "from sklearn.preprocessing import MinMaxScaler, OneHotEncoder\n",
    "from sklearn.pipeline import Pipeline"
   ]
  },
  {
   "cell_type": "code",
   "execution_count": 11,
   "id": "2dfbfaad",
   "metadata": {},
   "outputs": [],
   "source": [
    "def create_column_selector(dtype_include, to_exclude):\n",
    "    pattern_exclude = GROUP_IDS + to_exclude\n",
    "    return column_selector(dtype_include=dtype_include, pattern_exclude=pattern_exclude)"
   ]
  },
  {
   "cell_type": "code",
   "execution_count": 12,
   "id": "f3c51f60",
   "metadata": {},
   "outputs": [],
   "source": [
    "# Target transformer\n",
    "# ------------------\n",
    "\n",
    "scaler = MinMaxScaler()\n",
    "target_transformer_triplet = [('cont', scaler, [target])]\n",
    "target_transformer = GroupColumnTransformer(target_transformer_triplet, GROUP_IDS)"
   ]
  },
  {
   "cell_type": "code",
   "execution_count": 13,
   "id": "d3e4920c",
   "metadata": {},
   "outputs": [],
   "source": [
    "# GroupColumnTransformer\n",
    "# ----------------------\n",
    "\n",
    "transformers = []\n",
    "TIME_INDEX = 'time_index'\n",
    "to_exclude = GROUP_IDS\n",
    "\n",
    "# Time index\n",
    "time_index_triplet = ('time_index', TimeIndex(), TIME_INDEX)\n",
    "transformers.append(time_index_triplet)\n",
    "\n",
    "# Scaler\n",
    "scaler = MinMaxScaler()\n",
    "selector = create_column_selector(['float'], to_exclude=[target])\n",
    "scaler_triplet = ('cont', scaler, selector)\n",
    "transformers.append(scaler_triplet)\n",
    "\n",
    "gct = GroupColumnTransformer(transformers, GROUP_IDS)"
   ]
  },
  {
   "cell_type": "code",
   "execution_count": 14,
   "id": "eaadbab7",
   "metadata": {},
   "outputs": [],
   "source": [
    "# ColumnTransformer\n",
    "# -----------------\n",
    "\n",
    "to_exclude = GROUP_IDS\n",
    "transformers = []\n",
    "timestamp = 'timestamp'\n",
    "\n",
    "# Encoder\n",
    "encoder = OneHotEncoder()\n",
    "selector = create_column_selector(['object'], to_exclude)\n",
    "transformers = [('cat', encoder, selector)]\n",
    "\n",
    "# Time index\n",
    "identity_transformer = IdentityTransformer(TIME_INDEX, cast_to_object=True, dtype=np.dtype('<M8[ns]'))\n",
    "identity_triplet = ('identity', identity_transformer, [timestamp])\n",
    "transformers.append(identity_triplet)\n",
    "\n",
    "# Cyclical dates\n",
    "transformers.append(('cyclical_dates', CyclicalDates(), timestamp))\n",
    "\n",
    "ct = ColumnTransformer(transformers)"
   ]
  },
  {
   "cell_type": "code",
   "execution_count": 15,
   "id": "ad27d390",
   "metadata": {},
   "outputs": [],
   "source": [
    "steps = [ \n",
    "    ('target', target_transformer),\n",
    "    ('non_group', ct), \n",
    "    ('group', gct),\n",
    "]\n",
    "preprocessor = Pipeline(steps)"
   ]
  },
  {
   "cell_type": "markdown",
   "id": "cf9200ea",
   "metadata": {},
   "source": [
    "# Estimator"
   ]
  },
  {
   "cell_type": "code",
   "execution_count": 16,
   "id": "cd4288b2",
   "metadata": {},
   "outputs": [],
   "source": [
    "from mooncake.nn import SeqToSeq"
   ]
  },
  {
   "cell_type": "code",
   "execution_count": 17,
   "id": "4bab560a",
   "metadata": {},
   "outputs": [],
   "source": [
    "target = 'target'\n",
    "time_varying_unknown_reals = ['target']\n",
    "time_varying_known_reals = []\n",
    "static_categoricals = []"
   ]
  },
  {
   "cell_type": "code",
   "execution_count": 18,
   "id": "3b5546cd",
   "metadata": {},
   "outputs": [],
   "source": [
    "estimator = SeqToSeq(\n",
    "    group_ids=GROUP_IDS, time_idx='time_index', \n",
    "    target=target, max_prediction_length=10, \n",
    "    max_encoder_length=10, \n",
    "    time_varying_known_reals=time_varying_known_reals,\n",
    "    time_varying_unknown_reals=time_varying_unknown_reals,\n",
    "    static_categoricals=static_categoricals,\n",
    "    max_epochs=10\n",
    ")"
   ]
  },
  {
   "cell_type": "markdown",
   "id": "8d297236",
   "metadata": {},
   "source": [
    "# Pipeline"
   ]
  },
  {
   "cell_type": "code",
   "execution_count": 19,
   "id": "f98b9c67",
   "metadata": {},
   "outputs": [],
   "source": [
    "pipeline = Pipeline([('preprocessor', preprocessor), ('estimator', estimator)])"
   ]
  },
  {
   "cell_type": "code",
   "execution_count": 20,
   "id": "4a58fc36",
   "metadata": {
    "scrolled": true
   },
   "outputs": [
    {
     "name": "stdout",
     "output_type": "stream",
     "text": [
      "  epoch    train_loss     dur\n",
      "-------  ------------  ------\n",
      "      1        \u001b[36m0.2781\u001b[0m  0.0233\n",
      "      2        \u001b[36m0.2780\u001b[0m  0.0216\n",
      "      3        \u001b[36m0.2779\u001b[0m  0.0216\n",
      "      4        \u001b[36m0.2750\u001b[0m  0.0202\n",
      "      5        0.2778  0.0208\n",
      "      6        \u001b[36m0.2747\u001b[0m  0.0202\n",
      "      7        0.2775  0.0206\n",
      "      8        0.2774  0.0208\n",
      "      9        0.2771  0.0203\n",
      "     10        \u001b[36m0.2744\u001b[0m  0.0206\n"
     ]
    },
    {
     "data": {
      "text/plain": [
       "Pipeline(steps=[('preprocessor',\n",
       "                 Pipeline(steps=[('target',\n",
       "                                  GroupColumnTransformer(group_ids=['group_id__0',\n",
       "                                                                    'group_id__1'],\n",
       "                                                         transformers=[('cont',\n",
       "                                                                        MinMaxScaler(),\n",
       "                                                                        ['target'])])),\n",
       "                                 ('non_group',\n",
       "                                  ColumnTransformer(transformers=[('cat',\n",
       "                                                                   OneHotEncoder(),\n",
       "                                                                   <mooncake.utils.data.column_selector object at 0x1207a2580>),\n",
       "                                                                  ('identity',\n",
       "                                                                   IdentityTransformer(cast_to_object=True...\n",
       "                ('estimator',\n",
       "                 SeqToSeq(criterion=<class 'pytorch_forecasting.metrics.RMSE'>,\n",
       "                          group_ids=['group_id__0', 'group_id__1'],\n",
       "                          max_encoder_length=10, max_prediction_length=10,\n",
       "                          optimizer=<class 'torch.optim.adam.Adam'>,\n",
       "                          static_categoricals=['group_id__0', 'group_id__1'],\n",
       "                          target='target', time_idx='time_index',\n",
       "                          time_varying_known_reals=[],\n",
       "                          time_varying_unknown_reals=['target']))])"
      ]
     },
     "execution_count": 20,
     "metadata": {},
     "output_type": "execute_result"
    }
   ],
   "source": [
    "pipeline.fit(X)"
   ]
  },
  {
   "cell_type": "code",
   "execution_count": 21,
   "id": "b6798884",
   "metadata": {},
   "outputs": [],
   "source": [
    "predictions_df = pipeline.predict(X, raw=False)"
   ]
  },
  {
   "cell_type": "code",
   "execution_count": 23,
   "id": "0d9864f1",
   "metadata": {},
   "outputs": [
    {
     "data": {
      "text/html": [
       "<div>\n",
       "<style scoped>\n",
       "    .dataframe tbody tr th:only-of-type {\n",
       "        vertical-align: middle;\n",
       "    }\n",
       "\n",
       "    .dataframe tbody tr th {\n",
       "        vertical-align: top;\n",
       "    }\n",
       "\n",
       "    .dataframe thead th {\n",
       "        text-align: right;\n",
       "    }\n",
       "</style>\n",
       "<table border=\"1\" class=\"dataframe\">\n",
       "  <thead>\n",
       "    <tr style=\"text-align: right;\">\n",
       "      <th></th>\n",
       "      <th>target</th>\n",
       "      <th>group_id__0</th>\n",
       "      <th>group_id__1</th>\n",
       "      <th>timestamp</th>\n",
       "    </tr>\n",
       "  </thead>\n",
       "  <tbody>\n",
       "    <tr>\n",
       "      <th>0</th>\n",
       "      <td>143434.627347</td>\n",
       "      <td>14</td>\n",
       "      <td>92</td>\n",
       "      <td>2010-04-16</td>\n",
       "    </tr>\n",
       "    <tr>\n",
       "      <th>1</th>\n",
       "      <td>143491.182289</td>\n",
       "      <td>14</td>\n",
       "      <td>92</td>\n",
       "      <td>2010-04-23</td>\n",
       "    </tr>\n",
       "    <tr>\n",
       "      <th>2</th>\n",
       "      <td>143474.755685</td>\n",
       "      <td>14</td>\n",
       "      <td>92</td>\n",
       "      <td>2010-04-30</td>\n",
       "    </tr>\n",
       "    <tr>\n",
       "      <th>3</th>\n",
       "      <td>143504.418370</td>\n",
       "      <td>14</td>\n",
       "      <td>92</td>\n",
       "      <td>2010-05-02</td>\n",
       "    </tr>\n",
       "    <tr>\n",
       "      <th>4</th>\n",
       "      <td>142869.498014</td>\n",
       "      <td>14</td>\n",
       "      <td>92</td>\n",
       "      <td>2010-05-03</td>\n",
       "    </tr>\n",
       "    <tr>\n",
       "      <th>...</th>\n",
       "      <td>...</td>\n",
       "      <td>...</td>\n",
       "      <td>...</td>\n",
       "      <td>...</td>\n",
       "    </tr>\n",
       "    <tr>\n",
       "      <th>128</th>\n",
       "      <td>143199.815819</td>\n",
       "      <td>14</td>\n",
       "      <td>92</td>\n",
       "      <td>2012-10-08</td>\n",
       "    </tr>\n",
       "    <tr>\n",
       "      <th>129</th>\n",
       "      <td>143051.535461</td>\n",
       "      <td>14</td>\n",
       "      <td>92</td>\n",
       "      <td>2012-10-19</td>\n",
       "    </tr>\n",
       "    <tr>\n",
       "      <th>130</th>\n",
       "      <td>142954.918318</td>\n",
       "      <td>14</td>\n",
       "      <td>92</td>\n",
       "      <td>2012-10-26</td>\n",
       "    </tr>\n",
       "    <tr>\n",
       "      <th>131</th>\n",
       "      <td>142893.875821</td>\n",
       "      <td>14</td>\n",
       "      <td>92</td>\n",
       "      <td>2012-11-05</td>\n",
       "    </tr>\n",
       "    <tr>\n",
       "      <th>132</th>\n",
       "      <td>142856.074544</td>\n",
       "      <td>14</td>\n",
       "      <td>92</td>\n",
       "      <td>2012-12-10</td>\n",
       "    </tr>\n",
       "  </tbody>\n",
       "</table>\n",
       "<p>133 rows × 4 columns</p>\n",
       "</div>"
      ],
      "text/plain": [
       "            target group_id__0 group_id__1  timestamp\n",
       "0    143434.627347          14          92 2010-04-16\n",
       "1    143491.182289          14          92 2010-04-23\n",
       "2    143474.755685          14          92 2010-04-30\n",
       "3    143504.418370          14          92 2010-05-02\n",
       "4    142869.498014          14          92 2010-05-03\n",
       "..             ...         ...         ...        ...\n",
       "128  143199.815819          14          92 2012-10-08\n",
       "129  143051.535461          14          92 2012-10-19\n",
       "130  142954.918318          14          92 2012-10-26\n",
       "131  142893.875821          14          92 2012-11-05\n",
       "132  142856.074544          14          92 2012-12-10\n",
       "\n",
       "[133 rows x 4 columns]"
      ]
     },
     "execution_count": 23,
     "metadata": {},
     "output_type": "execute_result"
    }
   ],
   "source": [
    "preprocessor.inverse_transform(predictions_df)"
   ]
  }
 ],
 "metadata": {
  "kernelspec": {
   "display_name": "mooncake-venv",
   "language": "python",
   "name": "mooncake-venv"
  },
  "language_info": {
   "codemirror_mode": {
    "name": "ipython",
    "version": 3
   },
   "file_extension": ".py",
   "mimetype": "text/x-python",
   "name": "python",
   "nbconvert_exporter": "python",
   "pygments_lexer": "ipython3",
   "version": "3.9.9"
  }
 },
 "nbformat": 4,
 "nbformat_minor": 5
}
