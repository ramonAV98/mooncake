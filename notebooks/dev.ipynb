{
 "cells": [
  {
   "cell_type": "code",
   "execution_count": 1,
   "id": "f44eb481",
   "metadata": {},
   "outputs": [],
   "source": [
    "# Add mooncake to sys\n",
    "\n",
    "import sys\n",
    "\n",
    "mooncake_path = '/Users/ramonamezquita/Projects/mooncake'\n",
    "sys.path.append(mooncake_path)"
   ]
  },
  {
   "cell_type": "code",
   "execution_count": 2,
   "id": "b66d2826",
   "metadata": {},
   "outputs": [],
   "source": [
    "%load_ext autoreload\n",
    "%autoreload 2"
   ]
  },
  {
   "cell_type": "code",
   "execution_count": 4,
   "id": "0563e1f3",
   "metadata": {},
   "outputs": [],
   "source": [
    "import pandas as pd\n",
    "from mooncake.helper import column_selector\n",
    "from sklearn.preprocessing import MinMaxScaler, OneHotEncoder\n",
    "from sklearn.compose import ColumnTransformer"
   ]
  },
  {
   "cell_type": "code",
   "execution_count": 5,
   "id": "03fcced6",
   "metadata": {},
   "outputs": [],
   "source": [
    "def select_top_n_groups(X, n, group_ids, wrt, aggfunc=sum):\n",
    "    top_group_ids =  X.groupby(\n",
    "        group_ids).agg({wrt: aggfunc}).nlargest(n, wrt).index.tolist()\n",
    "    \n",
    "    return X.set_index(group_ids).loc[top_group_ids].reset_index()"
   ]
  },
  {
   "cell_type": "code",
   "execution_count": 6,
   "id": "cae67a8f",
   "metadata": {},
   "outputs": [],
   "source": [
    "# Data and description\n",
    "\n",
    "X = pd.read_csv('sales_example/sales_forecasting_dataset.csv')\n",
    "date = 'Date'\n",
    "group_ids = ['Store', 'Dept']\n",
    "target = 'Weekly_Sales'\n",
    "\n",
    "# Send group ids to object dtype\n",
    "for g in group_ids:\n",
    "    X[g] = X[g].astype(str)\n",
    "    \n",
    "# Select subset\n",
    "n_groups_to_use = 1\n",
    "X = select_top_n_groups(X, n_groups_to_use, group_ids, target)\n",
    "X.sort_values(group_ids + [date], inplace=True)"
   ]
  },
  {
   "cell_type": "code",
   "execution_count": 8,
   "id": "17d3acd2",
   "metadata": {},
   "outputs": [],
   "source": [
    "num_selector = column_selector(dtype_include=(int, float), pattern_exclude='time_idx')\n",
    "transformers = [\n",
    "    ('num', MinMaxScaler(), num_selector),\n",
    "    ('cat', OneHotEncoder(), ['IsHoliday'])\n",
    "]"
   ]
  }
 ],
 "metadata": {
  "kernelspec": {
   "display_name": "mooncake-venv",
   "language": "python",
   "name": "mooncake-venv"
  },
  "language_info": {
   "codemirror_mode": {
    "name": "ipython",
    "version": 3
   },
   "file_extension": ".py",
   "mimetype": "text/x-python",
   "name": "python",
   "nbconvert_exporter": "python",
   "pygments_lexer": "ipython3",
   "version": "3.9.9"
  }
 },
 "nbformat": 4,
 "nbformat_minor": 5
}
